{
  "nbformat": 4,
  "nbformat_minor": 0,
  "metadata": {
    "kernelspec": {
      "display_name": "Python 3",
      "language": "python",
      "name": "python3"
    },
    "language_info": {
      "codemirror_mode": {
        "name": "ipython",
        "version": 3
      },
      "file_extension": ".py",
      "mimetype": "text/x-python",
      "name": "python",
      "nbconvert_exporter": "python",
      "pygments_lexer": "ipython3",
      "version": "3.7.3"
    },
    "colab": {
      "name": "PUBG1  ANALYSIS.ipynb",
      "provenance": [],
      "toc_visible": true,
      "include_colab_link": true
    }
  },
  "cells": [
    {
      "cell_type": "markdown",
      "metadata": {
        "id": "view-in-github",
        "colab_type": "text"
      },
      "source": [
        "<a href=\"https://colab.research.google.com/github/MOHAK7488/PUBG-ANALYSIS/blob/master/PUBG1_ANALYSIS.ipynb\" target=\"_parent\"><img src=\"https://colab.research.google.com/assets/colab-badge.svg\" alt=\"Open In Colab\"/></a>"
      ]
    },
    {
      "cell_type": "code",
      "metadata": {
        "id": "VYleZuTgxOI7",
        "colab_type": "code",
        "colab": {}
      },
      "source": [
        "import numpy as np\n",
        "import pandas as pd\n",
        "import matplotlib.pyplot as plt\n",
        "import seaborn as sns\n",
        "%matplotlib inline"
      ],
      "execution_count": 0,
      "outputs": []
    },
    {
      "cell_type": "code",
      "metadata": {
        "id": "UVhXoJe1xOJB",
        "colab_type": "code",
        "colab": {
          "base_uri": "https://localhost:8080/",
          "height": 215
        },
        "outputId": "6df1e4b8-eaf4-40a8-f952-c49d6b4f309d"
      },
      "source": [
        "train = pd.read_csv('train_V2.csv')\n",
        "train.head()"
      ],
      "execution_count": 16,
      "outputs": [
        {
          "output_type": "execute_result",
          "data": {
            "text/html": [
              "<div>\n",
              "<style scoped>\n",
              "    .dataframe tbody tr th:only-of-type {\n",
              "        vertical-align: middle;\n",
              "    }\n",
              "\n",
              "    .dataframe tbody tr th {\n",
              "        vertical-align: top;\n",
              "    }\n",
              "\n",
              "    .dataframe thead th {\n",
              "        text-align: right;\n",
              "    }\n",
              "</style>\n",
              "<table border=\"1\" class=\"dataframe\">\n",
              "  <thead>\n",
              "    <tr style=\"text-align: right;\">\n",
              "      <th></th>\n",
              "      <th>Id</th>\n",
              "      <th>groupId</th>\n",
              "      <th>matchId</th>\n",
              "      <th>assists</th>\n",
              "      <th>boosts</th>\n",
              "      <th>damageDealt</th>\n",
              "      <th>DBNOs</th>\n",
              "      <th>headshotKills</th>\n",
              "      <th>heals</th>\n",
              "      <th>killPlace</th>\n",
              "      <th>killPoints</th>\n",
              "      <th>kills</th>\n",
              "      <th>killStreaks</th>\n",
              "      <th>longestKill</th>\n",
              "      <th>matchDuration</th>\n",
              "      <th>matchType</th>\n",
              "      <th>maxPlace</th>\n",
              "      <th>numGroups</th>\n",
              "      <th>rankPoints</th>\n",
              "      <th>revives</th>\n",
              "      <th>rideDistance</th>\n",
              "      <th>roadKills</th>\n",
              "      <th>swimDistance</th>\n",
              "      <th>teamKills</th>\n",
              "      <th>vehicleDestroys</th>\n",
              "      <th>walkDistance</th>\n",
              "      <th>weaponsAcquired</th>\n",
              "      <th>winPoints</th>\n",
              "      <th>winPlacePerc</th>\n",
              "    </tr>\n",
              "  </thead>\n",
              "  <tbody>\n",
              "    <tr>\n",
              "      <th>0</th>\n",
              "      <td>7f96b2f878858a</td>\n",
              "      <td>4d4b580de459be</td>\n",
              "      <td>a10357fd1a4a91</td>\n",
              "      <td>0</td>\n",
              "      <td>0</td>\n",
              "      <td>0.00</td>\n",
              "      <td>0</td>\n",
              "      <td>0.0</td>\n",
              "      <td>0.0</td>\n",
              "      <td>60.0</td>\n",
              "      <td>1241.0</td>\n",
              "      <td>0.0</td>\n",
              "      <td>0.0</td>\n",
              "      <td>0.00</td>\n",
              "      <td>1306.0</td>\n",
              "      <td>squad-fpp</td>\n",
              "      <td>28.0</td>\n",
              "      <td>26.0</td>\n",
              "      <td>-1.0</td>\n",
              "      <td>0.0</td>\n",
              "      <td>0.0000</td>\n",
              "      <td>0.0</td>\n",
              "      <td>0.00</td>\n",
              "      <td>0.0</td>\n",
              "      <td>0.0</td>\n",
              "      <td>244.80</td>\n",
              "      <td>1.0</td>\n",
              "      <td>1466.0</td>\n",
              "      <td>0.4444</td>\n",
              "    </tr>\n",
              "    <tr>\n",
              "      <th>1</th>\n",
              "      <td>eef90569b9d03c</td>\n",
              "      <td>684d5656442f9e</td>\n",
              "      <td>aeb375fc57110c</td>\n",
              "      <td>0</td>\n",
              "      <td>0</td>\n",
              "      <td>91.47</td>\n",
              "      <td>0</td>\n",
              "      <td>0.0</td>\n",
              "      <td>0.0</td>\n",
              "      <td>57.0</td>\n",
              "      <td>0.0</td>\n",
              "      <td>0.0</td>\n",
              "      <td>0.0</td>\n",
              "      <td>0.00</td>\n",
              "      <td>1777.0</td>\n",
              "      <td>squad-fpp</td>\n",
              "      <td>26.0</td>\n",
              "      <td>25.0</td>\n",
              "      <td>1484.0</td>\n",
              "      <td>0.0</td>\n",
              "      <td>0.0045</td>\n",
              "      <td>0.0</td>\n",
              "      <td>11.04</td>\n",
              "      <td>0.0</td>\n",
              "      <td>0.0</td>\n",
              "      <td>1434.00</td>\n",
              "      <td>5.0</td>\n",
              "      <td>0.0</td>\n",
              "      <td>0.6400</td>\n",
              "    </tr>\n",
              "    <tr>\n",
              "      <th>2</th>\n",
              "      <td>1eaf90ac73de72</td>\n",
              "      <td>6a4a42c3245a74</td>\n",
              "      <td>110163d8bb94ae</td>\n",
              "      <td>1</td>\n",
              "      <td>0</td>\n",
              "      <td>68.00</td>\n",
              "      <td>0</td>\n",
              "      <td>0.0</td>\n",
              "      <td>0.0</td>\n",
              "      <td>47.0</td>\n",
              "      <td>0.0</td>\n",
              "      <td>0.0</td>\n",
              "      <td>0.0</td>\n",
              "      <td>0.00</td>\n",
              "      <td>1318.0</td>\n",
              "      <td>duo</td>\n",
              "      <td>50.0</td>\n",
              "      <td>47.0</td>\n",
              "      <td>1491.0</td>\n",
              "      <td>0.0</td>\n",
              "      <td>0.0000</td>\n",
              "      <td>0.0</td>\n",
              "      <td>0.00</td>\n",
              "      <td>0.0</td>\n",
              "      <td>0.0</td>\n",
              "      <td>161.80</td>\n",
              "      <td>2.0</td>\n",
              "      <td>0.0</td>\n",
              "      <td>0.7755</td>\n",
              "    </tr>\n",
              "    <tr>\n",
              "      <th>3</th>\n",
              "      <td>4616d365dd2853</td>\n",
              "      <td>a930a9c79cd721</td>\n",
              "      <td>f1f1f4ef412d7e</td>\n",
              "      <td>0</td>\n",
              "      <td>0</td>\n",
              "      <td>32.90</td>\n",
              "      <td>0</td>\n",
              "      <td>0.0</td>\n",
              "      <td>0.0</td>\n",
              "      <td>75.0</td>\n",
              "      <td>0.0</td>\n",
              "      <td>0.0</td>\n",
              "      <td>0.0</td>\n",
              "      <td>0.00</td>\n",
              "      <td>1436.0</td>\n",
              "      <td>squad-fpp</td>\n",
              "      <td>31.0</td>\n",
              "      <td>30.0</td>\n",
              "      <td>1408.0</td>\n",
              "      <td>0.0</td>\n",
              "      <td>0.0000</td>\n",
              "      <td>0.0</td>\n",
              "      <td>0.00</td>\n",
              "      <td>0.0</td>\n",
              "      <td>0.0</td>\n",
              "      <td>202.70</td>\n",
              "      <td>3.0</td>\n",
              "      <td>0.0</td>\n",
              "      <td>0.1667</td>\n",
              "    </tr>\n",
              "    <tr>\n",
              "      <th>4</th>\n",
              "      <td>315c96c26c9aac</td>\n",
              "      <td>de04010b3458dd</td>\n",
              "      <td>6dc8ff871e21e6</td>\n",
              "      <td>0</td>\n",
              "      <td>0</td>\n",
              "      <td>100.00</td>\n",
              "      <td>0</td>\n",
              "      <td>0.0</td>\n",
              "      <td>0.0</td>\n",
              "      <td>45.0</td>\n",
              "      <td>0.0</td>\n",
              "      <td>1.0</td>\n",
              "      <td>1.0</td>\n",
              "      <td>58.53</td>\n",
              "      <td>1424.0</td>\n",
              "      <td>solo-fpp</td>\n",
              "      <td>97.0</td>\n",
              "      <td>95.0</td>\n",
              "      <td>1560.0</td>\n",
              "      <td>0.0</td>\n",
              "      <td>0.0000</td>\n",
              "      <td>0.0</td>\n",
              "      <td>0.00</td>\n",
              "      <td>0.0</td>\n",
              "      <td>0.0</td>\n",
              "      <td>49.75</td>\n",
              "      <td>2.0</td>\n",
              "      <td>0.0</td>\n",
              "      <td>0.1875</td>\n",
              "    </tr>\n",
              "  </tbody>\n",
              "</table>\n",
              "</div>"
            ],
            "text/plain": [
              "               Id         groupId  ... winPoints  winPlacePerc\n",
              "0  7f96b2f878858a  4d4b580de459be  ...    1466.0        0.4444\n",
              "1  eef90569b9d03c  684d5656442f9e  ...       0.0        0.6400\n",
              "2  1eaf90ac73de72  6a4a42c3245a74  ...       0.0        0.7755\n",
              "3  4616d365dd2853  a930a9c79cd721  ...       0.0        0.1667\n",
              "4  315c96c26c9aac  de04010b3458dd  ...       0.0        0.1875\n",
              "\n",
              "[5 rows x 29 columns]"
            ]
          },
          "metadata": {
            "tags": []
          },
          "execution_count": 16
        }
      ]
    },
    {
      "cell_type": "code",
      "metadata": {
        "id": "KUGxCgx3xOJH",
        "colab_type": "code",
        "colab": {
          "base_uri": "https://localhost:8080/",
          "height": 215
        },
        "outputId": "8d15e169-d262-48ed-f209-064491bff6e0"
      },
      "source": [
        "train.tail()"
      ],
      "execution_count": 17,
      "outputs": [
        {
          "output_type": "execute_result",
          "data": {
            "text/html": [
              "<div>\n",
              "<style scoped>\n",
              "    .dataframe tbody tr th:only-of-type {\n",
              "        vertical-align: middle;\n",
              "    }\n",
              "\n",
              "    .dataframe tbody tr th {\n",
              "        vertical-align: top;\n",
              "    }\n",
              "\n",
              "    .dataframe thead th {\n",
              "        text-align: right;\n",
              "    }\n",
              "</style>\n",
              "<table border=\"1\" class=\"dataframe\">\n",
              "  <thead>\n",
              "    <tr style=\"text-align: right;\">\n",
              "      <th></th>\n",
              "      <th>Id</th>\n",
              "      <th>groupId</th>\n",
              "      <th>matchId</th>\n",
              "      <th>assists</th>\n",
              "      <th>boosts</th>\n",
              "      <th>damageDealt</th>\n",
              "      <th>DBNOs</th>\n",
              "      <th>headshotKills</th>\n",
              "      <th>heals</th>\n",
              "      <th>killPlace</th>\n",
              "      <th>killPoints</th>\n",
              "      <th>kills</th>\n",
              "      <th>killStreaks</th>\n",
              "      <th>longestKill</th>\n",
              "      <th>matchDuration</th>\n",
              "      <th>matchType</th>\n",
              "      <th>maxPlace</th>\n",
              "      <th>numGroups</th>\n",
              "      <th>rankPoints</th>\n",
              "      <th>revives</th>\n",
              "      <th>rideDistance</th>\n",
              "      <th>roadKills</th>\n",
              "      <th>swimDistance</th>\n",
              "      <th>teamKills</th>\n",
              "      <th>vehicleDestroys</th>\n",
              "      <th>walkDistance</th>\n",
              "      <th>weaponsAcquired</th>\n",
              "      <th>winPoints</th>\n",
              "      <th>winPlacePerc</th>\n",
              "    </tr>\n",
              "  </thead>\n",
              "  <tbody>\n",
              "    <tr>\n",
              "      <th>176733</th>\n",
              "      <td>020d699f1c3351</td>\n",
              "      <td>df6f0b7ad56ff2</td>\n",
              "      <td>baccb86e0e6890</td>\n",
              "      <td>0</td>\n",
              "      <td>1</td>\n",
              "      <td>0.0</td>\n",
              "      <td>0</td>\n",
              "      <td>0.0</td>\n",
              "      <td>0.0</td>\n",
              "      <td>67.0</td>\n",
              "      <td>1328.0</td>\n",
              "      <td>0.0</td>\n",
              "      <td>0.0</td>\n",
              "      <td>0.00</td>\n",
              "      <td>1461.0</td>\n",
              "      <td>squad</td>\n",
              "      <td>29.0</td>\n",
              "      <td>29.0</td>\n",
              "      <td>-1.0</td>\n",
              "      <td>0.0</td>\n",
              "      <td>1008.0</td>\n",
              "      <td>0.0</td>\n",
              "      <td>0.0</td>\n",
              "      <td>0.0</td>\n",
              "      <td>0.0</td>\n",
              "      <td>993.4</td>\n",
              "      <td>4.0</td>\n",
              "      <td>1523.0</td>\n",
              "      <td>0.3929</td>\n",
              "    </tr>\n",
              "    <tr>\n",
              "      <th>176734</th>\n",
              "      <td>f5177c7973f05f</td>\n",
              "      <td>02cd5eef974817</td>\n",
              "      <td>6600062cd33735</td>\n",
              "      <td>3</td>\n",
              "      <td>2</td>\n",
              "      <td>372.6</td>\n",
              "      <td>2</td>\n",
              "      <td>0.0</td>\n",
              "      <td>4.0</td>\n",
              "      <td>4.0</td>\n",
              "      <td>1904.0</td>\n",
              "      <td>4.0</td>\n",
              "      <td>2.0</td>\n",
              "      <td>141.30</td>\n",
              "      <td>1852.0</td>\n",
              "      <td>squad-fpp</td>\n",
              "      <td>30.0</td>\n",
              "      <td>28.0</td>\n",
              "      <td>-1.0</td>\n",
              "      <td>0.0</td>\n",
              "      <td>8038.0</td>\n",
              "      <td>0.0</td>\n",
              "      <td>0.0</td>\n",
              "      <td>0.0</td>\n",
              "      <td>0.0</td>\n",
              "      <td>1898.0</td>\n",
              "      <td>3.0</td>\n",
              "      <td>1949.0</td>\n",
              "      <td>1.0000</td>\n",
              "    </tr>\n",
              "    <tr>\n",
              "      <th>176735</th>\n",
              "      <td>566d378cc5ca7f</td>\n",
              "      <td>70e2eb436252a3</td>\n",
              "      <td>1bc239fec0e4ad</td>\n",
              "      <td>0</td>\n",
              "      <td>2</td>\n",
              "      <td>200.0</td>\n",
              "      <td>0</td>\n",
              "      <td>0.0</td>\n",
              "      <td>4.0</td>\n",
              "      <td>17.0</td>\n",
              "      <td>0.0</td>\n",
              "      <td>2.0</td>\n",
              "      <td>1.0</td>\n",
              "      <td>26.49</td>\n",
              "      <td>1411.0</td>\n",
              "      <td>solo-fpp</td>\n",
              "      <td>95.0</td>\n",
              "      <td>94.0</td>\n",
              "      <td>1604.0</td>\n",
              "      <td>0.0</td>\n",
              "      <td>0.0</td>\n",
              "      <td>0.0</td>\n",
              "      <td>0.0</td>\n",
              "      <td>0.0</td>\n",
              "      <td>0.0</td>\n",
              "      <td>809.9</td>\n",
              "      <td>5.0</td>\n",
              "      <td>0.0</td>\n",
              "      <td>0.6809</td>\n",
              "    </tr>\n",
              "    <tr>\n",
              "      <th>176736</th>\n",
              "      <td>b612f5e8d4ebc1</td>\n",
              "      <td>2b71984d7ee04f</td>\n",
              "      <td>3c6be5f0192e46</td>\n",
              "      <td>0</td>\n",
              "      <td>0</td>\n",
              "      <td>0.0</td>\n",
              "      <td>0</td>\n",
              "      <td>0.0</td>\n",
              "      <td>0.0</td>\n",
              "      <td>62.0</td>\n",
              "      <td>1010.0</td>\n",
              "      <td>0.0</td>\n",
              "      <td>0.0</td>\n",
              "      <td>0.00</td>\n",
              "      <td>1974.0</td>\n",
              "      <td>squad</td>\n",
              "      <td>32.0</td>\n",
              "      <td>30.0</td>\n",
              "      <td>-1.0</td>\n",
              "      <td>0.0</td>\n",
              "      <td>912.7</td>\n",
              "      <td>0.0</td>\n",
              "      <td>0.0</td>\n",
              "      <td>0.0</td>\n",
              "      <td>0.0</td>\n",
              "      <td>1144.0</td>\n",
              "      <td>6.0</td>\n",
              "      <td>1508.0</td>\n",
              "      <td>0.3871</td>\n",
              "    </tr>\n",
              "    <tr>\n",
              "      <th>176737</th>\n",
              "      <td>674904075339d2</td>\n",
              "      <td>6244cacd859f1a</td>\n",
              "      <td>20a7c1f501fec5</td>\n",
              "      <td>0</td>\n",
              "      <td>0</td>\n",
              "      <td>0.0</td>\n",
              "      <td>0</td>\n",
              "      <td>NaN</td>\n",
              "      <td>NaN</td>\n",
              "      <td>NaN</td>\n",
              "      <td>NaN</td>\n",
              "      <td>NaN</td>\n",
              "      <td>NaN</td>\n",
              "      <td>NaN</td>\n",
              "      <td>NaN</td>\n",
              "      <td>NaN</td>\n",
              "      <td>NaN</td>\n",
              "      <td>NaN</td>\n",
              "      <td>NaN</td>\n",
              "      <td>NaN</td>\n",
              "      <td>NaN</td>\n",
              "      <td>NaN</td>\n",
              "      <td>NaN</td>\n",
              "      <td>NaN</td>\n",
              "      <td>NaN</td>\n",
              "      <td>NaN</td>\n",
              "      <td>NaN</td>\n",
              "      <td>NaN</td>\n",
              "      <td>NaN</td>\n",
              "    </tr>\n",
              "  </tbody>\n",
              "</table>\n",
              "</div>"
            ],
            "text/plain": [
              "                    Id         groupId  ... winPoints  winPlacePerc\n",
              "176733  020d699f1c3351  df6f0b7ad56ff2  ...    1523.0        0.3929\n",
              "176734  f5177c7973f05f  02cd5eef974817  ...    1949.0        1.0000\n",
              "176735  566d378cc5ca7f  70e2eb436252a3  ...       0.0        0.6809\n",
              "176736  b612f5e8d4ebc1  2b71984d7ee04f  ...    1508.0        0.3871\n",
              "176737  674904075339d2  6244cacd859f1a  ...       NaN           NaN\n",
              "\n",
              "[5 rows x 29 columns]"
            ]
          },
          "metadata": {
            "tags": []
          },
          "execution_count": 17
        }
      ]
    },
    {
      "cell_type": "code",
      "metadata": {
        "id": "vje8iu71xOJK",
        "colab_type": "code",
        "colab": {
          "base_uri": "https://localhost:8080/",
          "height": 622
        },
        "outputId": "341c4a5a-0c0a-4974-d793-5c8eb670cdf1"
      },
      "source": [
        "train.info()"
      ],
      "execution_count": 18,
      "outputs": [
        {
          "output_type": "stream",
          "text": [
            "<class 'pandas.core.frame.DataFrame'>\n",
            "RangeIndex: 176738 entries, 0 to 176737\n",
            "Data columns (total 29 columns):\n",
            " #   Column           Non-Null Count   Dtype  \n",
            "---  ------           --------------   -----  \n",
            " 0   Id               176738 non-null  object \n",
            " 1   groupId          176738 non-null  object \n",
            " 2   matchId          176738 non-null  object \n",
            " 3   assists          176738 non-null  int64  \n",
            " 4   boosts           176738 non-null  int64  \n",
            " 5   damageDealt      176738 non-null  float64\n",
            " 6   DBNOs            176738 non-null  int64  \n",
            " 7   headshotKills    176737 non-null  float64\n",
            " 8   heals            176737 non-null  float64\n",
            " 9   killPlace        176737 non-null  float64\n",
            " 10  killPoints       176737 non-null  float64\n",
            " 11  kills            176737 non-null  float64\n",
            " 12  killStreaks      176737 non-null  float64\n",
            " 13  longestKill      176737 non-null  float64\n",
            " 14  matchDuration    176737 non-null  float64\n",
            " 15  matchType        176737 non-null  object \n",
            " 16  maxPlace         176737 non-null  float64\n",
            " 17  numGroups        176737 non-null  float64\n",
            " 18  rankPoints       176737 non-null  float64\n",
            " 19  revives          176737 non-null  float64\n",
            " 20  rideDistance     176737 non-null  float64\n",
            " 21  roadKills        176737 non-null  float64\n",
            " 22  swimDistance     176737 non-null  float64\n",
            " 23  teamKills        176737 non-null  float64\n",
            " 24  vehicleDestroys  176737 non-null  float64\n",
            " 25  walkDistance     176737 non-null  float64\n",
            " 26  weaponsAcquired  176737 non-null  float64\n",
            " 27  winPoints        176737 non-null  float64\n",
            " 28  winPlacePerc     176737 non-null  float64\n",
            "dtypes: float64(22), int64(3), object(4)\n",
            "memory usage: 39.1+ MB\n"
          ],
          "name": "stdout"
        }
      ]
    },
    {
      "cell_type": "code",
      "metadata": {
        "id": "dm-xFMNOxOJN",
        "colab_type": "code",
        "colab": {
          "base_uri": "https://localhost:8080/",
          "height": 304
        },
        "outputId": "905dac7e-e692-48bf-dceb-7167c146dc6f"
      },
      "source": [
        "train.describe()"
      ],
      "execution_count": 19,
      "outputs": [
        {
          "output_type": "execute_result",
          "data": {
            "text/html": [
              "<div>\n",
              "<style scoped>\n",
              "    .dataframe tbody tr th:only-of-type {\n",
              "        vertical-align: middle;\n",
              "    }\n",
              "\n",
              "    .dataframe tbody tr th {\n",
              "        vertical-align: top;\n",
              "    }\n",
              "\n",
              "    .dataframe thead th {\n",
              "        text-align: right;\n",
              "    }\n",
              "</style>\n",
              "<table border=\"1\" class=\"dataframe\">\n",
              "  <thead>\n",
              "    <tr style=\"text-align: right;\">\n",
              "      <th></th>\n",
              "      <th>assists</th>\n",
              "      <th>boosts</th>\n",
              "      <th>damageDealt</th>\n",
              "      <th>DBNOs</th>\n",
              "      <th>headshotKills</th>\n",
              "      <th>heals</th>\n",
              "      <th>killPlace</th>\n",
              "      <th>killPoints</th>\n",
              "      <th>kills</th>\n",
              "      <th>killStreaks</th>\n",
              "      <th>longestKill</th>\n",
              "      <th>matchDuration</th>\n",
              "      <th>maxPlace</th>\n",
              "      <th>numGroups</th>\n",
              "      <th>rankPoints</th>\n",
              "      <th>revives</th>\n",
              "      <th>rideDistance</th>\n",
              "      <th>roadKills</th>\n",
              "      <th>swimDistance</th>\n",
              "      <th>teamKills</th>\n",
              "      <th>vehicleDestroys</th>\n",
              "      <th>walkDistance</th>\n",
              "      <th>weaponsAcquired</th>\n",
              "      <th>winPoints</th>\n",
              "      <th>winPlacePerc</th>\n",
              "    </tr>\n",
              "  </thead>\n",
              "  <tbody>\n",
              "    <tr>\n",
              "      <th>count</th>\n",
              "      <td>176738.000000</td>\n",
              "      <td>176738.000000</td>\n",
              "      <td>176738.000000</td>\n",
              "      <td>176738.000000</td>\n",
              "      <td>176737.000000</td>\n",
              "      <td>176737.000000</td>\n",
              "      <td>176737.000000</td>\n",
              "      <td>176737.000000</td>\n",
              "      <td>176737.000000</td>\n",
              "      <td>176737.000000</td>\n",
              "      <td>176737.000000</td>\n",
              "      <td>176737.000000</td>\n",
              "      <td>176737.000000</td>\n",
              "      <td>176737.000000</td>\n",
              "      <td>176737.000000</td>\n",
              "      <td>176737.000000</td>\n",
              "      <td>176737.000000</td>\n",
              "      <td>176737.000000</td>\n",
              "      <td>176737.000000</td>\n",
              "      <td>176737.000000</td>\n",
              "      <td>176737.000000</td>\n",
              "      <td>176737.000000</td>\n",
              "      <td>176737.000000</td>\n",
              "      <td>176737.000000</td>\n",
              "      <td>176737.000000</td>\n",
              "    </tr>\n",
              "    <tr>\n",
              "      <th>mean</th>\n",
              "      <td>0.233294</td>\n",
              "      <td>1.112573</td>\n",
              "      <td>130.625437</td>\n",
              "      <td>0.655332</td>\n",
              "      <td>0.225595</td>\n",
              "      <td>1.370143</td>\n",
              "      <td>47.659177</td>\n",
              "      <td>505.896609</td>\n",
              "      <td>0.923864</td>\n",
              "      <td>0.542954</td>\n",
              "      <td>22.813399</td>\n",
              "      <td>1579.138205</td>\n",
              "      <td>44.510335</td>\n",
              "      <td>43.019481</td>\n",
              "      <td>890.587076</td>\n",
              "      <td>0.163192</td>\n",
              "      <td>602.066602</td>\n",
              "      <td>0.003683</td>\n",
              "      <td>4.559095</td>\n",
              "      <td>0.023634</td>\n",
              "      <td>0.007508</td>\n",
              "      <td>1156.128353</td>\n",
              "      <td>3.671048</td>\n",
              "      <td>608.014451</td>\n",
              "      <td>0.472863</td>\n",
              "    </tr>\n",
              "    <tr>\n",
              "      <th>std</th>\n",
              "      <td>0.592080</td>\n",
              "      <td>1.722028</td>\n",
              "      <td>171.492322</td>\n",
              "      <td>1.148266</td>\n",
              "      <td>0.598458</td>\n",
              "      <td>2.671909</td>\n",
              "      <td>27.466040</td>\n",
              "      <td>627.240447</td>\n",
              "      <td>1.561194</td>\n",
              "      <td>0.712306</td>\n",
              "      <td>50.523213</td>\n",
              "      <td>258.752488</td>\n",
              "      <td>23.864917</td>\n",
              "      <td>23.327526</td>\n",
              "      <td>737.144027</td>\n",
              "      <td>0.466267</td>\n",
              "      <td>1482.396959</td>\n",
              "      <td>0.076880</td>\n",
              "      <td>30.447818</td>\n",
              "      <td>0.165319</td>\n",
              "      <td>0.089795</td>\n",
              "      <td>1183.946218</td>\n",
              "      <td>2.462425</td>\n",
              "      <td>739.994751</td>\n",
              "      <td>0.307478</td>\n",
              "    </tr>\n",
              "    <tr>\n",
              "      <th>min</th>\n",
              "      <td>0.000000</td>\n",
              "      <td>0.000000</td>\n",
              "      <td>0.000000</td>\n",
              "      <td>0.000000</td>\n",
              "      <td>0.000000</td>\n",
              "      <td>0.000000</td>\n",
              "      <td>1.000000</td>\n",
              "      <td>0.000000</td>\n",
              "      <td>0.000000</td>\n",
              "      <td>0.000000</td>\n",
              "      <td>0.000000</td>\n",
              "      <td>209.000000</td>\n",
              "      <td>2.000000</td>\n",
              "      <td>1.000000</td>\n",
              "      <td>-1.000000</td>\n",
              "      <td>0.000000</td>\n",
              "      <td>0.000000</td>\n",
              "      <td>0.000000</td>\n",
              "      <td>0.000000</td>\n",
              "      <td>0.000000</td>\n",
              "      <td>0.000000</td>\n",
              "      <td>0.000000</td>\n",
              "      <td>0.000000</td>\n",
              "      <td>0.000000</td>\n",
              "      <td>0.000000</td>\n",
              "    </tr>\n",
              "    <tr>\n",
              "      <th>25%</th>\n",
              "      <td>0.000000</td>\n",
              "      <td>0.000000</td>\n",
              "      <td>0.000000</td>\n",
              "      <td>0.000000</td>\n",
              "      <td>0.000000</td>\n",
              "      <td>0.000000</td>\n",
              "      <td>24.000000</td>\n",
              "      <td>0.000000</td>\n",
              "      <td>0.000000</td>\n",
              "      <td>0.000000</td>\n",
              "      <td>0.000000</td>\n",
              "      <td>1367.000000</td>\n",
              "      <td>28.000000</td>\n",
              "      <td>27.000000</td>\n",
              "      <td>-1.000000</td>\n",
              "      <td>0.000000</td>\n",
              "      <td>0.000000</td>\n",
              "      <td>0.000000</td>\n",
              "      <td>0.000000</td>\n",
              "      <td>0.000000</td>\n",
              "      <td>0.000000</td>\n",
              "      <td>156.000000</td>\n",
              "      <td>2.000000</td>\n",
              "      <td>0.000000</td>\n",
              "      <td>0.200000</td>\n",
              "    </tr>\n",
              "    <tr>\n",
              "      <th>50%</th>\n",
              "      <td>0.000000</td>\n",
              "      <td>0.000000</td>\n",
              "      <td>83.850000</td>\n",
              "      <td>0.000000</td>\n",
              "      <td>0.000000</td>\n",
              "      <td>0.000000</td>\n",
              "      <td>48.000000</td>\n",
              "      <td>0.000000</td>\n",
              "      <td>0.000000</td>\n",
              "      <td>0.000000</td>\n",
              "      <td>0.000000</td>\n",
              "      <td>1438.000000</td>\n",
              "      <td>30.000000</td>\n",
              "      <td>30.000000</td>\n",
              "      <td>1443.000000</td>\n",
              "      <td>0.000000</td>\n",
              "      <td>0.000000</td>\n",
              "      <td>0.000000</td>\n",
              "      <td>0.000000</td>\n",
              "      <td>0.000000</td>\n",
              "      <td>0.000000</td>\n",
              "      <td>690.500000</td>\n",
              "      <td>3.000000</td>\n",
              "      <td>0.000000</td>\n",
              "      <td>0.459000</td>\n",
              "    </tr>\n",
              "    <tr>\n",
              "      <th>75%</th>\n",
              "      <td>0.000000</td>\n",
              "      <td>2.000000</td>\n",
              "      <td>185.300000</td>\n",
              "      <td>1.000000</td>\n",
              "      <td>0.000000</td>\n",
              "      <td>2.000000</td>\n",
              "      <td>71.000000</td>\n",
              "      <td>1171.000000</td>\n",
              "      <td>1.000000</td>\n",
              "      <td>1.000000</td>\n",
              "      <td>21.080000</td>\n",
              "      <td>1851.000000</td>\n",
              "      <td>49.000000</td>\n",
              "      <td>47.000000</td>\n",
              "      <td>1500.000000</td>\n",
              "      <td>0.000000</td>\n",
              "      <td>0.064100</td>\n",
              "      <td>0.000000</td>\n",
              "      <td>0.000000</td>\n",
              "      <td>0.000000</td>\n",
              "      <td>0.000000</td>\n",
              "      <td>1978.000000</td>\n",
              "      <td>5.000000</td>\n",
              "      <td>1495.000000</td>\n",
              "      <td>0.740700</td>\n",
              "    </tr>\n",
              "    <tr>\n",
              "      <th>max</th>\n",
              "      <td>21.000000</td>\n",
              "      <td>21.000000</td>\n",
              "      <td>5479.000000</td>\n",
              "      <td>32.000000</td>\n",
              "      <td>40.000000</td>\n",
              "      <td>52.000000</td>\n",
              "      <td>100.000000</td>\n",
              "      <td>2152.000000</td>\n",
              "      <td>48.000000</td>\n",
              "      <td>14.000000</td>\n",
              "      <td>981.400000</td>\n",
              "      <td>2237.000000</td>\n",
              "      <td>100.000000</td>\n",
              "      <td>100.000000</td>\n",
              "      <td>5580.000000</td>\n",
              "      <td>16.000000</td>\n",
              "      <td>28450.000000</td>\n",
              "      <td>6.000000</td>\n",
              "      <td>1441.000000</td>\n",
              "      <td>4.000000</td>\n",
              "      <td>4.000000</td>\n",
              "      <td>13530.000000</td>\n",
              "      <td>71.000000</td>\n",
              "      <td>1972.000000</td>\n",
              "      <td>1.000000</td>\n",
              "    </tr>\n",
              "  </tbody>\n",
              "</table>\n",
              "</div>"
            ],
            "text/plain": [
              "             assists         boosts  ...      winPoints   winPlacePerc\n",
              "count  176738.000000  176738.000000  ...  176737.000000  176737.000000\n",
              "mean        0.233294       1.112573  ...     608.014451       0.472863\n",
              "std         0.592080       1.722028  ...     739.994751       0.307478\n",
              "min         0.000000       0.000000  ...       0.000000       0.000000\n",
              "25%         0.000000       0.000000  ...       0.000000       0.200000\n",
              "50%         0.000000       0.000000  ...       0.000000       0.459000\n",
              "75%         0.000000       2.000000  ...    1495.000000       0.740700\n",
              "max        21.000000      21.000000  ...    1972.000000       1.000000\n",
              "\n",
              "[8 rows x 25 columns]"
            ]
          },
          "metadata": {
            "tags": []
          },
          "execution_count": 19
        }
      ]
    },
    {
      "cell_type": "code",
      "metadata": {
        "id": "_aAuxJMBxOJS",
        "colab_type": "code",
        "colab": {}
      },
      "source": [
        "missing_data = train.isna().sum().to_frame()\n",
        "missing_data.columns=[\"Missing data\"]"
      ],
      "execution_count": 0,
      "outputs": []
    },
    {
      "cell_type": "code",
      "metadata": {
        "id": "3oqSsuJLxOJW",
        "colab_type": "code",
        "colab": {
          "base_uri": "https://localhost:8080/",
          "height": 34
        },
        "outputId": "c820acc7-f8ba-412f-f4cb-b0ef849437ec"
      },
      "source": [
        "no_matches = train.loc[:,\"matchId\"].nunique()\n",
        "print(\"There are {} matches registered in our database.\".format(no_matches))"
      ],
      "execution_count": 21,
      "outputs": [
        {
          "output_type": "stream",
          "text": [
            "There are 46489 matches registered in our database.\n"
          ],
          "name": "stdout"
        }
      ]
    },
    {
      "cell_type": "code",
      "metadata": {
        "id": "OXu4zSVixOJa",
        "colab_type": "code",
        "colab": {
          "base_uri": "https://localhost:8080/",
          "height": 521
        },
        "outputId": "f4ea6280-e02d-4724-ed57-44cf6753ee2c"
      },
      "source": [
        "m_types = train.loc[:,\"matchType\"].value_counts().to_frame().reset_index()\n",
        "m_types.columns = [\"Type\",\"Count\"]\n",
        "m_types"
      ],
      "execution_count": 22,
      "outputs": [
        {
          "output_type": "execute_result",
          "data": {
            "text/html": [
              "<div>\n",
              "<style scoped>\n",
              "    .dataframe tbody tr th:only-of-type {\n",
              "        vertical-align: middle;\n",
              "    }\n",
              "\n",
              "    .dataframe tbody tr th {\n",
              "        vertical-align: top;\n",
              "    }\n",
              "\n",
              "    .dataframe thead th {\n",
              "        text-align: right;\n",
              "    }\n",
              "</style>\n",
              "<table border=\"1\" class=\"dataframe\">\n",
              "  <thead>\n",
              "    <tr style=\"text-align: right;\">\n",
              "      <th></th>\n",
              "      <th>Type</th>\n",
              "      <th>Count</th>\n",
              "    </tr>\n",
              "  </thead>\n",
              "  <tbody>\n",
              "    <tr>\n",
              "      <th>0</th>\n",
              "      <td>squad-fpp</td>\n",
              "      <td>69934</td>\n",
              "    </tr>\n",
              "    <tr>\n",
              "      <th>1</th>\n",
              "      <td>duo-fpp</td>\n",
              "      <td>39704</td>\n",
              "    </tr>\n",
              "    <tr>\n",
              "      <th>2</th>\n",
              "      <td>squad</td>\n",
              "      <td>24948</td>\n",
              "    </tr>\n",
              "    <tr>\n",
              "      <th>3</th>\n",
              "      <td>solo-fpp</td>\n",
              "      <td>21395</td>\n",
              "    </tr>\n",
              "    <tr>\n",
              "      <th>4</th>\n",
              "      <td>duo</td>\n",
              "      <td>12140</td>\n",
              "    </tr>\n",
              "    <tr>\n",
              "      <th>5</th>\n",
              "      <td>solo</td>\n",
              "      <td>7243</td>\n",
              "    </tr>\n",
              "    <tr>\n",
              "      <th>6</th>\n",
              "      <td>normal-squad-fpp</td>\n",
              "      <td>677</td>\n",
              "    </tr>\n",
              "    <tr>\n",
              "      <th>7</th>\n",
              "      <td>crashfpp</td>\n",
              "      <td>241</td>\n",
              "    </tr>\n",
              "    <tr>\n",
              "      <th>8</th>\n",
              "      <td>normal-duo-fpp</td>\n",
              "      <td>205</td>\n",
              "    </tr>\n",
              "    <tr>\n",
              "      <th>9</th>\n",
              "      <td>flaretpp</td>\n",
              "      <td>92</td>\n",
              "    </tr>\n",
              "    <tr>\n",
              "      <th>10</th>\n",
              "      <td>normal-solo-fpp</td>\n",
              "      <td>71</td>\n",
              "    </tr>\n",
              "    <tr>\n",
              "      <th>11</th>\n",
              "      <td>flarefpp</td>\n",
              "      <td>34</td>\n",
              "    </tr>\n",
              "    <tr>\n",
              "      <th>12</th>\n",
              "      <td>normal-squad</td>\n",
              "      <td>22</td>\n",
              "    </tr>\n",
              "    <tr>\n",
              "      <th>13</th>\n",
              "      <td>crashtpp</td>\n",
              "      <td>14</td>\n",
              "    </tr>\n",
              "    <tr>\n",
              "      <th>14</th>\n",
              "      <td>normal-duo</td>\n",
              "      <td>9</td>\n",
              "    </tr>\n",
              "    <tr>\n",
              "      <th>15</th>\n",
              "      <td>normal-solo</td>\n",
              "      <td>8</td>\n",
              "    </tr>\n",
              "  </tbody>\n",
              "</table>\n",
              "</div>"
            ],
            "text/plain": [
              "                Type  Count\n",
              "0          squad-fpp  69934\n",
              "1            duo-fpp  39704\n",
              "2              squad  24948\n",
              "3           solo-fpp  21395\n",
              "4                duo  12140\n",
              "5               solo   7243\n",
              "6   normal-squad-fpp    677\n",
              "7           crashfpp    241\n",
              "8     normal-duo-fpp    205\n",
              "9           flaretpp     92\n",
              "10   normal-solo-fpp     71\n",
              "11          flarefpp     34\n",
              "12      normal-squad     22\n",
              "13          crashtpp     14\n",
              "14        normal-duo      9\n",
              "15       normal-solo      8"
            ]
          },
          "metadata": {
            "tags": []
          },
          "execution_count": 22
        }
      ]
    },
    {
      "cell_type": "code",
      "metadata": {
        "id": "iXF1IGl5xOJd",
        "colab_type": "code",
        "colab": {
          "base_uri": "https://localhost:8080/",
          "height": 617
        },
        "outputId": "5474bb96-20bc-4149-f5d2-b342c9ce6c42"
      },
      "source": [
        "plt.figure(figsize=(15,8))\n",
        "ticks = m_types.Type.values\n",
        "ax = sns.barplot(x=\"Type\", y=\"Count\", data=m_types)\n",
        "ax.set_xticklabels(ticks, rotation=60, fontsize=14)\n",
        "ax.set_title(\"Match types\")\n",
        "plt.show()"
      ],
      "execution_count": 23,
      "outputs": [
        {
          "output_type": "display_data",
          "data": {
            "image/png": "[encoded data removed]",
            "text/plain": [
              "<Figure size 1080x576 with 1 Axes>"
            ]
          },
          "metadata": {
            "tags": [],
            "needs_background": "light"
          }
        }
      ]
    },
    {
      "cell_type": "code",
      "metadata": {
        "id": "TVRnuGtXxOJg",
        "colab_type": "code",
        "colab": {
          "base_uri": "https://localhost:8080/",
          "height": 136
        },
        "outputId": "40c67829-d9a6-4f7f-bfdb-25c6e4bcb065"
      },
      "source": [
        "m_types2 = train.loc[:,\"matchType\"].value_counts().to_frame()\n",
        "aggregated_squads = m_types2.loc[[\"squad-fpp\",\"squad\",\"normal-squad-fpp\",\"normal-squad\"],\"matchType\"].sum()\n",
        "aggregated_duos = m_types2.loc[[\"duo-fpp\",\"duo\",\"normal-duo-fpp\",\"normal-duo\"],\"matchType\"].sum()\n",
        "aggregated_solo = m_types2.loc[[\"solo-fpp\",\"solo\",\"normal-solo-fpp\",\"normal-solo\"],\"matchType\"].sum()\n",
        "aggregated_mt = pd.DataFrame([aggregated_squads,aggregated_duos,aggregated_solo], index=[\"squad\",\"duo\",\"solo\"], columns =[\"count\"])\n",
        "aggregated_mt"
      ],
      "execution_count": 24,
      "outputs": [
        {
          "output_type": "execute_result",
          "data": {
            "text/html": [
              "<div>\n",
              "<style scoped>\n",
              "    .dataframe tbody tr th:only-of-type {\n",
              "        vertical-align: middle;\n",
              "    }\n",
              "\n",
              "    .dataframe tbody tr th {\n",
              "        vertical-align: top;\n",
              "    }\n",
              "\n",
              "    .dataframe thead th {\n",
              "        text-align: right;\n",
              "    }\n",
              "</style>\n",
              "<table border=\"1\" class=\"dataframe\">\n",
              "  <thead>\n",
              "    <tr style=\"text-align: right;\">\n",
              "      <th></th>\n",
              "      <th>count</th>\n",
              "    </tr>\n",
              "  </thead>\n",
              "  <tbody>\n",
              "    <tr>\n",
              "      <th>squad</th>\n",
              "      <td>95581</td>\n",
              "    </tr>\n",
              "    <tr>\n",
              "      <th>duo</th>\n",
              "      <td>52058</td>\n",
              "    </tr>\n",
              "    <tr>\n",
              "      <th>solo</th>\n",
              "      <td>28717</td>\n",
              "    </tr>\n",
              "  </tbody>\n",
              "</table>\n",
              "</div>"
            ],
            "text/plain": [
              "       count\n",
              "squad  95581\n",
              "duo    52058\n",
              "solo   28717"
            ]
          },
          "metadata": {
            "tags": []
          },
          "execution_count": 24
        }
      ]
    },
    {
      "cell_type": "code",
      "metadata": {
        "id": "AlaZKUbPxOJi",
        "colab_type": "code",
        "colab": {
          "base_uri": "https://localhost:8080/",
          "height": 303
        },
        "outputId": "2bbc5bac-3d17-4beb-9698-0da2f1e0c6da"
      },
      "source": [
        "fig1, ax1 = plt.subplots(figsize=(5, 5))\n",
        "labels = ['squad', 'duo', 'solo']\n",
        "\n",
        "wedges, texts, autotexts = ax1.pie(aggregated_mt[\"count\"],textprops=dict(color=\"w\"), autopct='%1.1f%%', startangle=90)\n",
        "\n",
        "ax1.axis('equal')\n",
        "ax1.legend(wedges, labels,\n",
        "          title=\"Types\",\n",
        "          loc=\"center left\",\n",
        "          bbox_to_anchor=(1, 0, 0.5, 1))\n",
        "\n",
        "plt.setp(autotexts, size=12, weight=\"bold\")\n",
        "plt.show()\n"
      ],
      "execution_count": 25,
      "outputs": [
        {
          "output_type": "display_data",
          "data": {
            "image/png": "[encoded data removed]",
            "text/plain": [
              "<Figure size 360x360 with 1 Axes>"
            ]
          },
          "metadata": {
            "tags": []
          }
        }
      ]
    },
    {
      "cell_type": "code",
      "metadata": {
        "id": "cUstUurBxOJm",
        "colab_type": "code",
        "colab": {
          "base_uri": "https://localhost:8080/",
          "height": 513
        },
        "outputId": "55405d61-1092-40e4-81bf-e63b75666585"
      },
      "source": [
        "plt.figure(figsize=(15,8))\n",
        "ax = sns.distplot(train[\"numGroups\"])\n",
        "ax.set_title(\"Number of groups\")\n",
        "plt.show()"
      ],
      "execution_count": 26,
      "outputs": [
        {
          "output_type": "display_data",
          "data": {
            "image/png": "[encoded data removed]",
            "text/plain": [
              "<Figure size 1080x576 with 1 Axes>"
            ]
          },
          "metadata": {
            "tags": [],
            "needs_background": "light"
          }
        }
      ]
    },
    {
      "cell_type": "code",
      "metadata": {
        "id": "5spNYqBuxOJq",
        "colab_type": "code",
        "colab": {
          "base_uri": "https://localhost:8080/",
          "height": 513
        },
        "outputId": "623d56cb-756b-4ab3-d5ce-10d081a77aac"
      },
      "source": [
        "plt.figure(figsize=(15,8))\n",
        "ax1 = sns.boxplot(x=\"kills\",y=\"damageDealt\", data = train)\n",
        "ax1.set_title(\"Damage Dealt vs. Number of Kills\")\n",
        "plt.show()"
      ],
      "execution_count": 27,
      "outputs": [
        {
          "output_type": "display_data",
          "data": {
            "image/png": "[encoded data removed]",
            "text/plain": [
              "<Figure size 1080x576 with 1 Axes>"
            ]
          },
          "metadata": {
            "tags": [],
            "needs_background": "light"
          }
        }
      ]
    },
    {
      "cell_type": "code",
      "metadata": {
        "id": "Jx22zrU2xOJt",
        "colab_type": "code",
        "colab": {
          "base_uri": "https://localhost:8080/",
          "height": 47
        },
        "outputId": "fe68a838-6371-4da4-8796-aae810ae2e35"
      },
      "source": [
        "train[train['kills']>60][[\"Id\",\"assists\",\"damageDealt\",\"headshotKills\",\"kills\",\"longestKill\"]]"
      ],
      "execution_count": 28,
      "outputs": [
        {
          "output_type": "execute_result",
          "data": {
            "text/html": [
              "<div>\n",
              "<style scoped>\n",
              "    .dataframe tbody tr th:only-of-type {\n",
              "        vertical-align: middle;\n",
              "    }\n",
              "\n",
              "    .dataframe tbody tr th {\n",
              "        vertical-align: top;\n",
              "    }\n",
              "\n",
              "    .dataframe thead th {\n",
              "        text-align: right;\n",
              "    }\n",
              "</style>\n",
              "<table border=\"1\" class=\"dataframe\">\n",
              "  <thead>\n",
              "    <tr style=\"text-align: right;\">\n",
              "      <th></th>\n",
              "      <th>Id</th>\n",
              "      <th>assists</th>\n",
              "      <th>damageDealt</th>\n",
              "      <th>headshotKills</th>\n",
              "      <th>kills</th>\n",
              "      <th>longestKill</th>\n",
              "    </tr>\n",
              "  </thead>\n",
              "  <tbody>\n",
              "  </tbody>\n",
              "</table>\n",
              "</div>"
            ],
            "text/plain": [
              "Empty DataFrame\n",
              "Columns: [Id, assists, damageDealt, headshotKills, kills, longestKill]\n",
              "Index: []"
            ]
          },
          "metadata": {
            "tags": []
          },
          "execution_count": 28
        }
      ]
    },
    {
      "cell_type": "code",
      "metadata": {
        "id": "Fnnw0eX5xOJw",
        "colab_type": "code",
        "colab": {
          "base_uri": "https://localhost:8080/",
          "height": 351
        },
        "outputId": "0980ed10-b581-4a3e-88b3-46617a5b9484"
      },
      "source": [
        "headshots = train[train['headshotKills']>0]\n",
        "plt.figure(figsize=(15,5))\n",
        "sns.countplot(headshots['headshotKills'].sort_values())\n",
        "print(\"Maximum number of headshots that the player scored: \" + str(train[\"headshotKills\"].max()))"
      ],
      "execution_count": 29,
      "outputs": [
        {
          "output_type": "stream",
          "text": [
            "Maximum number of headshots that the player scored: 40.0\n"
          ],
          "name": "stdout"
        },
        {
          "output_type": "display_data",
          "data": {
            "image/png": "[encoded data removed]",
            "text/plain": [
              "<Figure size 1080x360 with 1 Axes>"
            ]
          },
          "metadata": {
            "tags": [],
            "needs_background": "light"
          }
        }
      ]
    },
    {
      "cell_type": "code",
      "metadata": {
        "id": "4fWztbY2xOJ0",
        "colab_type": "code",
        "colab": {
          "base_uri": "https://localhost:8080/",
          "height": 351
        },
        "outputId": "3c8ca7f1-f92b-4352-e458-06e07aa301fb"
      },
      "source": [
        "headshots = train[train['DBNOs']>0]\n",
        "plt.figure(figsize=(15,5))\n",
        "sns.countplot(headshots['DBNOs'].sort_values())\n",
        "print(\"Mean number of DBNOs that the player scored: \" + str(train[\"DBNOs\"].mean()))"
      ],
      "execution_count": 30,
      "outputs": [
        {
          "output_type": "stream",
          "text": [
            "Mean number of DBNOs that the player scored: 0.6553316208172549\n"
          ],
          "name": "stdout"
        },
        {
          "output_type": "display_data",
          "data": {
            "image/png": "[encoded data removed]",
            "text/plain": [
              "<Figure size 1080x360 with 1 Axes>"
            ]
          },
          "metadata": {
            "tags": [],
            "needs_background": "light"
          }
        }
      ]
    },
    {
      "cell_type": "code",
      "metadata": {
        "id": "mVVe6C2OxOJ3",
        "colab_type": "code",
        "colab": {
          "base_uri": "https://localhost:8080/",
          "height": 513
        },
        "outputId": "fcd1f3fa-a3c9-4abc-99f5-d626769a5bc4"
      },
      "source": [
        "plt.figure(figsize=(15,8))\n",
        "ax2 = sns.boxplot(x=\"DBNOs\",y=\"kills\", data = train)\n",
        "ax2.set_title(\"Number of DBNOs vs. Number of Kills\")\n",
        "plt.show()"
      ],
      "execution_count": 31,
      "outputs": [
        {
          "output_type": "display_data",
          "data": {
            "image/png": "[encoded data removed]",
            "text/plain": [
              "<Figure size 1080x576 with 1 Axes>"
            ]
          },
          "metadata": {
            "tags": [],
            "needs_background": "light"
          }
        }
      ]
    },
    {
      "cell_type": "code",
      "metadata": {
        "id": "Ri90Ik8_xOJ6",
        "colab_type": "code",
        "colab": {
          "base_uri": "https://localhost:8080/",
          "height": 513
        },
        "outputId": "48f04b1a-4c6b-4848-fcbe-4836f430a2af"
      },
      "source": [
        "plt.figure(figsize=(15,8))\n",
        "ax3 = sns.boxplot(x=\"killStreaks\",y=\"kills\", data = train)\n",
        "ax3.set_title(\"Number of kill streaks vs. Number of Kills\")\n",
        "plt.show()"
      ],
      "execution_count": 32,
      "outputs": [
        {
          "output_type": "display_data",
          "data": {
            "image/png": "[encoded data removed]",
            "text/plain": [
              "<Figure size 1080x576 with 1 Axes>"
            ]
          },
          "metadata": {
            "tags": [],
            "needs_background": "light"
          }
        }
      ]
    },
    {
      "cell_type": "code",
      "metadata": {
        "id": "GFkkRnplxOJ_",
        "colab_type": "code",
        "colab": {
          "base_uri": "https://localhost:8080/",
          "height": 499
        },
        "outputId": "a1f6c97c-f971-46df-8642-193ea8e6c632"
      },
      "source": [
        "dist = train[train['longestKill']<200]\n",
        "plt.rcParams['axes.axisbelow'] = True\n",
        "dist.hist('longestKill', bins=20, figsize = (16,8))\n",
        "plt.show()"
      ],
      "execution_count": 33,
      "outputs": [
        {
          "output_type": "display_data",
          "data": {
            "image/png": "[encoded data removed]",
            "text/plain": [
              "<Figure size 1152x576 with 1 Axes>"
            ]
          },
          "metadata": {
            "tags": [],
            "needs_background": "light"
          }
        }
      ]
    },
    {
      "cell_type": "code",
      "metadata": {
        "id": "mM7sIZZXxOKB",
        "colab_type": "code",
        "colab": {
          "base_uri": "https://localhost:8080/",
          "height": 34
        },
        "outputId": "a5192040-4f33-4671-bc17-4afa2c59c33b"
      },
      "source": [
        "print(\"Average longest kill distance a player achieve is {:.1f}m, 95% of them not more than {:.1f}m and a maximum distance is {:.1f}m.\" .format(train['longestKill'].mean(),train['longestKill'].quantile(0.95),train['longestKill'].max()))"
      ],
      "execution_count": 34,
      "outputs": [
        {
          "output_type": "stream",
          "text": [
            "Average longest kill distance a player achieve is 22.8m, 95% of them not more than 125.8m and a maximum distance is 981.4m.\n"
          ],
          "name": "stdout"
        }
      ]
    },
    {
      "cell_type": "code",
      "metadata": {
        "id": "_1-JEuW_xOKE",
        "colab_type": "code",
        "colab": {}
      },
      "source": [
        "import xgboost as xgb\n",
        "\n",
        "from sklearn.model_selection import train_test_split\n",
        "from sklearn.preprocessing import Normalizer\n",
        "\n",
        "train.dropna(subset=[\"winPlacePerc\"], inplace=True) # droping rows with missing labels\n",
        "\n",
        "X = train.drop([\"Id\",\"groupId\",\"matchId\",\"matchType\",\"winPlacePerc\"], axis=1)\n",
        "y = train[\"winPlacePerc\"]\n",
        "\n",
        "col_names = X.columns\n",
        "\n",
        "transformer = Normalizer().fit(X)\n",
        "X = transformer.transform(X)\n"
      ],
      "execution_count": 0,
      "outputs": []
    },
    {
      "cell_type": "code",
      "metadata": {
        "id": "mJikXjvwxOKG",
        "colab_type": "code",
        "colab": {}
      },
      "source": [
        "X = pd.DataFrame(X, columns=col_names)"
      ],
      "execution_count": 0,
      "outputs": []
    },
    {
      "cell_type": "code",
      "metadata": {
        "id": "md4oijBaxOKJ",
        "colab_type": "code",
        "colab": {}
      },
      "source": [
        "X_train, X_test, Y_train, Y_test = train_test_split(X, y, test_size=0.2)\n",
        "\n",
        "D_train = xgb.DMatrix(X_train, label=Y_train)\n",
        "D_test = xgb.DMatrix(X_test, label=Y_test)"
      ],
      "execution_count": 0,
      "outputs": []
    },
    {
      "cell_type": "code",
      "metadata": {
        "id": "6InrwL9QxOKL",
        "colab_type": "code",
        "colab": {}
      },
      "source": [
        "param = {\n",
        "    'eta': 0.15, \n",
        "    'max_depth': 5,  \n",
        "    'num_class': 2} \n",
        "\n",
        "steps = 2  # The number of training iterations\n",
        "model = xgb.train(param, D_train, steps)"
      ],
      "execution_count": 0,
      "outputs": []
    },
    {
      "cell_type": "code",
      "metadata": {
        "id": "qwr7TA5gxOKO",
        "colab_type": "code",
        "colab": {
          "base_uri": "https://localhost:8080/",
          "height": 893
        },
        "outputId": "5c964da3-0930-416f-ce0c-aac67dbd0823"
      },
      "source": [
        "fig, ax1 = plt.subplots(figsize=(8,15))\n",
        "xgb.plot_importance(model, ax=ax1)\n",
        "plt.show()"
      ],
      "execution_count": 39,
      "outputs": [
        {
          "output_type": "display_data",
          "data": {
            "image/png": "[encoded data removed]",
            "text/plain": [
              "<Figure size 576x1080 with 1 Axes>"
            ]
          },
          "metadata": {
            "tags": [],
            "needs_background": "light"
          }
        }
      ]
    },
    {
      "cell_type": "code",
      "metadata": {
        "id": "23LaXehuxOKS",
        "colab_type": "code",
        "colab": {
          "base_uri": "https://localhost:8080/",
          "height": 34
        },
        "outputId": "4813af54-d00f-45b2-ab7a-127a1860d5ba"
      },
      "source": [
        "from sklearn.metrics import mean_squared_error\n",
        "\n",
        "preds = model.predict(D_test)\n",
        "best_preds = np.asarray([np.argmax(line) for line in preds])\n",
        "\n",
        "print(\"MSE = {}\".format(mean_squared_error(Y_test, best_preds)))"
      ],
      "execution_count": 40,
      "outputs": [
        {
          "output_type": "stream",
          "text": [
            "MSE = 0.31834315380955075\n"
          ],
          "name": "stdout"
        }
      ]
    },
    {
      "cell_type": "code",
      "metadata": {
        "id": "Q732THJqxOKW",
        "colab_type": "code",
        "colab": {}
      },
      "source": [
        ""
      ],
      "execution_count": 0,
      "outputs": []
    }
  ]
}